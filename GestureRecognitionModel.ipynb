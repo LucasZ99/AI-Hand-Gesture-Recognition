{
  "nbformat": 4,
  "nbformat_minor": 0,
  "metadata": {
    "colab": {
      "provenance": [],
      "gpuType": "T4"
    },
    "kernelspec": {
      "name": "python3",
      "display_name": "Python 3"
    },
    "language_info": {
      "name": "python"
    },
    "accelerator": "GPU"
  },
  "cells": [
    {
      "cell_type": "markdown",
      "source": [
        "**Imports**\n",
        "\n",
        "---\n",
        "\n"
      ],
      "metadata": {
        "id": "A_LtZ5Ph7QP0"
      }
    },
    {
      "cell_type": "code",
      "source": [
        "from keras.applications.mobilenet_v2 import MobileNetV2"
      ],
      "metadata": {
        "id": "w0KPLxpa7Xp3"
      },
      "execution_count": null,
      "outputs": []
    },
    {
      "cell_type": "code",
      "source": [
        "# Copy new folder paths to run from your own drive\n",
        "THUMBS_DOWN = '/content/drive/MyDrive/1770FinalProject/thumbs_down_images'\n",
        "THUMBS_UP = '/content/drive/MyDrive/1770FinalProject/thumbs_up_images'\n",
        "NUMBER_ONE = '/content/drive/MyDrive/1770FinalProject/number_one_images'\n",
        "NUMBER_TWO = '/content/drive/MyDrive/1770FinalProject/number_two_images'\n",
        "NUMBER_THREE = '/content/drive/MyDrive/1770FinalProject/number_three_images'\n",
        "NUMBER_FOUR = '/content/drive/MyDrive/1770FinalProject/number_four_images'\n",
        "NUMBER_FIVE = '/content/drive/MyDrive/1770FinalProject/number_five_images'\n",
        "PROCESSED_IMAGES = '/content/drive/MyDrive/1770FinalProject/processed_images'\n",
        "PRED_IMAGES = '/content/drive/MyDrive/1770FinalProject/pred_images'\n",
        "MODEL = '/content/drive/MyDrive/1770FinalProject/model'"
      ],
      "metadata": {
        "id": "KqdC2773XmQL"
      },
      "execution_count": null,
      "outputs": []
    },
    {
      "cell_type": "markdown",
      "source": [
        "**The Model**\n",
        "The purpose of this model is to use a custom-made dataset to perform transfer learning on MobilenetV2 in order to do a custom hand-gesture recognition task\n",
        "---\n",
        "\n"
      ],
      "metadata": {
        "id": "35U7PJEHGNgn"
      }
    },
    {
      "cell_type": "code",
      "source": [
        "model = MobileNetV2(weights = 'imagenet')"
      ],
      "metadata": {
        "id": "knIeX6I77h0s"
      },
      "execution_count": null,
      "outputs": []
    },
    {
      "cell_type": "markdown",
      "source": [
        "Creating image array"
      ],
      "metadata": {
        "id": "iGLHspCyGo_W"
      }
    },
    {
      "cell_type": "code",
      "source": [
        "import numpy as np\n",
        "\n",
        "labels = []\n",
        "data = []"
      ],
      "metadata": {
        "id": "XQr70FQ3GYiM"
      },
      "execution_count": null,
      "outputs": []
    },
    {
      "cell_type": "markdown",
      "source": [
        "Pre processing images - only do this once! Then restart the program to free up system memory"
      ],
      "metadata": {
        "id": "jiSXbqOZIGFj"
      }
    },
    {
      "cell_type": "code",
      "source": [
        "from imageio.v2 import imread\n",
        "from skimage.transform import resize\n",
        "from keras.applications.mobilenet_v2 import preprocess_input\n",
        "import os\n",
        "\n",
        "# thumbs down images\n",
        "for i in range(0, 500):\n",
        "    im = imread(f'{THUMBS_DOWN}/thumbs_down{i}.png')\n",
        "    im = preprocess_input(im)\n",
        "    im = resize(im, output_shape=(224, 224))\n",
        "    np.save(os.path.join(PROCESSED_IMAGES, f'processed_image{i}.npy'), im)\n",
        "    # data[i] = im\n",
        "    # labels[i] = 0\n",
        "\n",
        "# thumbs up images\n",
        "for i in range(0, 500):\n",
        "    im = imread(f'{THUMBS_UP}/thumbs_up{i}.png')\n",
        "    im = preprocess_input(im)\n",
        "    im = resize(im, output_shape=(224, 224))\n",
        "    np.save(os.path.join(PROCESSED_IMAGES, f'processed_image{i+500}.npy'), im)\n",
        "    # data[i + 500] = im\n",
        "    # labels[i + 500] = 1\n",
        "\n",
        "\n",
        "# number one images\n",
        "for i in range(0, 500):\n",
        "    im = imread(f'{NUMBER_ONE}/number_one{i}.png')\n",
        "    im = preprocess_input(im)\n",
        "    im = resize(im, output_shape=(224, 224))\n",
        "    np.save(os.path.join(PROCESSED_IMAGES, f'processed_image{i+1000}.npy'), im)\n",
        "    # data[i + 1000] = im\n",
        "    # labels[i + 1000] = 2\n",
        "\n",
        "# number two images\n",
        "for i in range(0, 500):\n",
        "    im = imread(f'{NUMBER_TWO}/number_two{i}.png')\n",
        "    im = preprocess_input(im)\n",
        "    im = resize(im, output_shape=(224, 224))\n",
        "    np.save(os.path.join(PROCESSED_IMAGES, f'processed_image{i+1500}.npy'), im)\n",
        "    # data[i + 1500] = im\n",
        "    # labels[i + 1500] = 3\n",
        "\n",
        "# number three images\n",
        "for i in range(0, 500):\n",
        "    im = imread(f'{NUMBER_THREE}/number_three{i}.png')\n",
        "    im = preprocess_input(im)\n",
        "    im = resize(im, output_shape=(224, 224))\n",
        "    np.save(os.path.join(PROCESSED_IMAGES, f'processed_image{i+2000}.npy'), im)\n",
        "    # data[i + 2000] = im\n",
        "    # labels[i + 2000] = 4\n",
        "\n",
        "# number four images\n",
        "for i in range(0, 500):\n",
        "    im = imread(f'{NUMBER_FOUR}/number_four{i}.png')\n",
        "    im = preprocess_input(im)\n",
        "    im = resize(im, output_shape=(224, 224))\n",
        "    np.save(os.path.join(PROCESSED_IMAGES, f'processed_image{i+2500}.npy'), im)\n",
        "    # data[i + 2500] = im\n",
        "    # labels[i + 2500] = 5\n",
        "\n",
        "\n",
        "# number five images\n",
        "for i in range(0, 500):\n",
        "    im = imread(f'{NUMBER_FIVE}/number_five{i}.png')\n",
        "    im = preprocess_input(im)\n",
        "    im = resize(im, output_shape=(224, 224))\n",
        "    np.save(os.path.join(PROCESSED_IMAGES, f'processed_image{i+3000}.npy'), im)\n",
        "    # data[i + 3000] = im\n",
        "    # labels[i + 3000] = 6\n"
      ],
      "metadata": {
        "id": "dGiiCYZzIFcb"
      },
      "execution_count": null,
      "outputs": []
    },
    {
      "cell_type": "markdown",
      "source": [
        "Pull the processed images from drive into the program"
      ],
      "metadata": {
        "id": "UfVzfFf49Y62"
      }
    },
    {
      "cell_type": "code",
      "source": [
        "import os\n",
        "# load the preprocessed images\n",
        "for i in range(0, 3500):\n",
        "  image_path = os.path.join(PROCESSED_IMAGES, f'processed_image{i}.npy')\n",
        "  processed_image = np.load(image_path)\n",
        "  data.append(processed_image)\n",
        "for i in range(7):\n",
        "  labels.extend([i]*500)"
      ],
      "metadata": {
        "id": "pZXS7IufsyP-"
      },
      "execution_count": null,
      "outputs": []
    },
    {
      "cell_type": "markdown",
      "source": [
        "Training + validation set up"
      ],
      "metadata": {
        "id": "7uTG3QklJxF-"
      }
    },
    {
      "cell_type": "code",
      "source": [
        "import random\n",
        "\n",
        "# shuffle the training data together\n",
        "\n",
        "total_data = list(zip(data, labels))\n",
        "random.shuffle(total_data)\n",
        "\n",
        "# recover the data and the labels\n",
        "data_shuffled, labels_shuffled = zip(*total_data)\n",
        "data_shuffled, labels_shuffled = list(data_shuffled), list(labels_shuffled)\n",
        "\n",
        "# split into training data and validation data\n",
        "# 75 / 25 split\n",
        "train_data = np.array(data_shuffled[:2625])\n",
        "train_labels = np.array(labels_shuffled[:2625])\n",
        "\n",
        "validate_data = np.array(data_shuffled[2625:])\n",
        "validate_labels = np.array(labels_shuffled[2625:])"
      ],
      "metadata": {
        "id": "VOAeRoctJ0rn"
      },
      "execution_count": null,
      "outputs": []
    },
    {
      "cell_type": "markdown",
      "source": [
        "Creating and inserting own output layer"
      ],
      "metadata": {
        "id": "5cNr-8RoLAMT"
      }
    },
    {
      "cell_type": "code",
      "source": [
        "from keras.layers import Dense\n",
        "\n",
        "model_output = Dense(7, activation = 'softmax')\n",
        "model_output = model_output(model.layers[-2].output)"
      ],
      "metadata": {
        "id": "pKVekrDtKZ3k"
      },
      "execution_count": null,
      "outputs": []
    },
    {
      "cell_type": "markdown",
      "source": [
        "The new model"
      ],
      "metadata": {
        "id": "33rn9RBXK2R3"
      }
    },
    {
      "cell_type": "code",
      "source": [
        "from keras import Model\n",
        "\n",
        "gesture_model = Model(inputs = model.input, outputs = model_output)"
      ],
      "metadata": {
        "id": "inVmLRRJK112"
      },
      "execution_count": null,
      "outputs": []
    },
    {
      "cell_type": "markdown",
      "source": [
        "Prep model for transfer learning"
      ],
      "metadata": {
        "id": "iJSAMb3yLaaD"
      }
    },
    {
      "cell_type": "code",
      "source": [
        "# Freeze all the layers except the last one\n",
        "for layer in gesture_model.layers[:-1]:\n",
        "  layer.trainable = False\n",
        "\n",
        "# compile the model with our new changes\n",
        "gesture_model.compile(optimizer='adam', loss = 'sparse_categorical_crossentropy', metrics = ['accuracy'])"
      ],
      "metadata": {
        "id": "Sq11dpA9Lcdq"
      },
      "execution_count": null,
      "outputs": []
    },
    {
      "cell_type": "markdown",
      "source": [
        "Training"
      ],
      "metadata": {
        "id": "wh9uieKxL8GD"
      }
    },
    {
      "cell_type": "code",
      "source": [
        "import time\n",
        "start_time = time.time()\n",
        "train_results = gesture_model.fit(x=train_data, y=train_labels, validation_data=(validate_data, validate_labels), epochs = 50, verbose=2)\n",
        "end_time = time.time()\n",
        "print(f\"Training time:{end_time - start_time}\")"
      ],
      "metadata": {
        "id": "DT9GBbAmLi-W",
        "colab": {
          "base_uri": "https://localhost:8080/"
        },
        "outputId": "22ff4328-6c3a-410f-a43b-851eacdd2921"
      },
      "execution_count": null,
      "outputs": [
        {
          "output_type": "stream",
          "name": "stdout",
          "text": [
            "Epoch 1/50\n",
            "83/83 - 14s - loss: 0.9060 - accuracy: 0.6682 - val_loss: 0.4569 - val_accuracy: 0.8800 - 14s/epoch - 163ms/step\n",
            "Epoch 2/50\n",
            "83/83 - 5s - loss: 0.3584 - accuracy: 0.9105 - val_loss: 0.2960 - val_accuracy: 0.9314 - 5s/epoch - 57ms/step\n",
            "Epoch 3/50\n",
            "83/83 - 5s - loss: 0.2518 - accuracy: 0.9413 - val_loss: 0.2495 - val_accuracy: 0.9326 - 5s/epoch - 57ms/step\n",
            "Epoch 4/50\n",
            "83/83 - 5s - loss: 0.1933 - accuracy: 0.9581 - val_loss: 0.1984 - val_accuracy: 0.9417 - 5s/epoch - 57ms/step\n",
            "Epoch 5/50\n",
            "83/83 - 5s - loss: 0.1540 - accuracy: 0.9680 - val_loss: 0.1759 - val_accuracy: 0.9486 - 5s/epoch - 57ms/step\n",
            "Epoch 6/50\n",
            "83/83 - 5s - loss: 0.1355 - accuracy: 0.9703 - val_loss: 0.1580 - val_accuracy: 0.9566 - 5s/epoch - 59ms/step\n",
            "Epoch 7/50\n",
            "83/83 - 5s - loss: 0.1165 - accuracy: 0.9756 - val_loss: 0.1417 - val_accuracy: 0.9611 - 5s/epoch - 57ms/step\n",
            "Epoch 8/50\n",
            "83/83 - 5s - loss: 0.1002 - accuracy: 0.9813 - val_loss: 0.1282 - val_accuracy: 0.9657 - 5s/epoch - 57ms/step\n",
            "Epoch 9/50\n",
            "83/83 - 5s - loss: 0.0884 - accuracy: 0.9855 - val_loss: 0.1244 - val_accuracy: 0.9646 - 5s/epoch - 55ms/step\n",
            "Epoch 10/50\n",
            "83/83 - 5s - loss: 0.0785 - accuracy: 0.9863 - val_loss: 0.1094 - val_accuracy: 0.9726 - 5s/epoch - 55ms/step\n",
            "Epoch 11/50\n",
            "83/83 - 5s - loss: 0.0691 - accuracy: 0.9901 - val_loss: 0.1045 - val_accuracy: 0.9760 - 5s/epoch - 57ms/step\n",
            "Epoch 12/50\n",
            "83/83 - 5s - loss: 0.0652 - accuracy: 0.9893 - val_loss: 0.0968 - val_accuracy: 0.9771 - 5s/epoch - 55ms/step\n",
            "Epoch 13/50\n",
            "83/83 - 5s - loss: 0.0575 - accuracy: 0.9931 - val_loss: 0.0923 - val_accuracy: 0.9771 - 5s/epoch - 57ms/step\n",
            "Epoch 14/50\n",
            "83/83 - 5s - loss: 0.0528 - accuracy: 0.9943 - val_loss: 0.0960 - val_accuracy: 0.9749 - 5s/epoch - 59ms/step\n",
            "Epoch 15/50\n",
            "83/83 - 5s - loss: 0.0482 - accuracy: 0.9950 - val_loss: 0.0931 - val_accuracy: 0.9749 - 5s/epoch - 55ms/step\n",
            "Epoch 16/50\n",
            "83/83 - 5s - loss: 0.0610 - accuracy: 0.9863 - val_loss: 0.0835 - val_accuracy: 0.9771 - 5s/epoch - 55ms/step\n",
            "Epoch 17/50\n",
            "83/83 - 5s - loss: 0.0425 - accuracy: 0.9958 - val_loss: 0.0822 - val_accuracy: 0.9817 - 5s/epoch - 57ms/step\n",
            "Epoch 18/50\n",
            "83/83 - 5s - loss: 0.0383 - accuracy: 0.9973 - val_loss: 0.0757 - val_accuracy: 0.9760 - 5s/epoch - 57ms/step\n",
            "Epoch 19/50\n",
            "83/83 - 5s - loss: 0.0362 - accuracy: 0.9970 - val_loss: 0.0844 - val_accuracy: 0.9691 - 5s/epoch - 55ms/step\n",
            "Epoch 20/50\n",
            "83/83 - 5s - loss: 0.0326 - accuracy: 0.9977 - val_loss: 0.0758 - val_accuracy: 0.9783 - 5s/epoch - 56ms/step\n",
            "Epoch 21/50\n",
            "83/83 - 5s - loss: 0.0309 - accuracy: 0.9992 - val_loss: 0.0752 - val_accuracy: 0.9783 - 5s/epoch - 55ms/step\n",
            "Epoch 22/50\n",
            "83/83 - 5s - loss: 0.0280 - accuracy: 0.9992 - val_loss: 0.0678 - val_accuracy: 0.9794 - 5s/epoch - 55ms/step\n",
            "Epoch 23/50\n",
            "83/83 - 5s - loss: 0.0260 - accuracy: 1.0000 - val_loss: 0.0710 - val_accuracy: 0.9817 - 5s/epoch - 55ms/step\n",
            "Epoch 24/50\n",
            "83/83 - 5s - loss: 0.0253 - accuracy: 0.9996 - val_loss: 0.0636 - val_accuracy: 0.9840 - 5s/epoch - 55ms/step\n",
            "Epoch 25/50\n",
            "83/83 - 5s - loss: 0.0241 - accuracy: 1.0000 - val_loss: 0.0739 - val_accuracy: 0.9726 - 5s/epoch - 57ms/step\n",
            "Epoch 26/50\n",
            "83/83 - 5s - loss: 0.0408 - accuracy: 0.9920 - val_loss: 0.0689 - val_accuracy: 0.9771 - 5s/epoch - 57ms/step\n",
            "Epoch 27/50\n",
            "83/83 - 5s - loss: 0.0305 - accuracy: 0.9958 - val_loss: 0.0624 - val_accuracy: 0.9817 - 5s/epoch - 57ms/step\n",
            "Epoch 28/50\n",
            "83/83 - 5s - loss: 0.0196 - accuracy: 1.0000 - val_loss: 0.0602 - val_accuracy: 0.9829 - 5s/epoch - 59ms/step\n",
            "Epoch 29/50\n",
            "83/83 - 5s - loss: 0.0181 - accuracy: 1.0000 - val_loss: 0.0622 - val_accuracy: 0.9806 - 5s/epoch - 55ms/step\n",
            "Epoch 30/50\n",
            "83/83 - 5s - loss: 0.0172 - accuracy: 1.0000 - val_loss: 0.0573 - val_accuracy: 0.9829 - 5s/epoch - 55ms/step\n",
            "Epoch 31/50\n",
            "83/83 - 5s - loss: 0.0162 - accuracy: 1.0000 - val_loss: 0.0558 - val_accuracy: 0.9806 - 5s/epoch - 58ms/step\n",
            "Epoch 32/50\n",
            "83/83 - 5s - loss: 0.0154 - accuracy: 1.0000 - val_loss: 0.0554 - val_accuracy: 0.9817 - 5s/epoch - 56ms/step\n",
            "Epoch 33/50\n",
            "83/83 - 5s - loss: 0.0147 - accuracy: 1.0000 - val_loss: 0.0553 - val_accuracy: 0.9863 - 5s/epoch - 57ms/step\n",
            "Epoch 34/50\n",
            "83/83 - 5s - loss: 0.0195 - accuracy: 0.9981 - val_loss: 0.0535 - val_accuracy: 0.9806 - 5s/epoch - 56ms/step\n",
            "Epoch 35/50\n",
            "83/83 - 5s - loss: 0.0139 - accuracy: 1.0000 - val_loss: 0.0530 - val_accuracy: 0.9806 - 5s/epoch - 57ms/step\n",
            "Epoch 36/50\n",
            "83/83 - 5s - loss: 0.0131 - accuracy: 1.0000 - val_loss: 0.0524 - val_accuracy: 0.9851 - 5s/epoch - 56ms/step\n",
            "Epoch 37/50\n",
            "83/83 - 5s - loss: 0.0122 - accuracy: 1.0000 - val_loss: 0.0521 - val_accuracy: 0.9806 - 5s/epoch - 55ms/step\n",
            "Epoch 38/50\n",
            "83/83 - 5s - loss: 0.0131 - accuracy: 1.0000 - val_loss: 0.0596 - val_accuracy: 0.9794 - 5s/epoch - 57ms/step\n",
            "Epoch 39/50\n",
            "83/83 - 5s - loss: 0.0114 - accuracy: 1.0000 - val_loss: 0.0510 - val_accuracy: 0.9817 - 5s/epoch - 57ms/step\n",
            "Epoch 40/50\n",
            "83/83 - 5s - loss: 0.0106 - accuracy: 1.0000 - val_loss: 0.0533 - val_accuracy: 0.9794 - 5s/epoch - 55ms/step\n",
            "Epoch 41/50\n",
            "83/83 - 5s - loss: 0.0119 - accuracy: 0.9989 - val_loss: 0.0518 - val_accuracy: 0.9817 - 5s/epoch - 55ms/step\n",
            "Epoch 42/50\n",
            "83/83 - 5s - loss: 0.0098 - accuracy: 1.0000 - val_loss: 0.0492 - val_accuracy: 0.9817 - 5s/epoch - 58ms/step\n",
            "Epoch 43/50\n",
            "83/83 - 5s - loss: 0.0092 - accuracy: 1.0000 - val_loss: 0.0511 - val_accuracy: 0.9806 - 5s/epoch - 55ms/step\n",
            "Epoch 44/50\n",
            "83/83 - 5s - loss: 0.0089 - accuracy: 1.0000 - val_loss: 0.0491 - val_accuracy: 0.9817 - 5s/epoch - 55ms/step\n",
            "Epoch 45/50\n",
            "83/83 - 5s - loss: 0.0084 - accuracy: 1.0000 - val_loss: 0.0472 - val_accuracy: 0.9817 - 5s/epoch - 58ms/step\n",
            "Epoch 46/50\n",
            "83/83 - 5s - loss: 0.0081 - accuracy: 1.0000 - val_loss: 0.0553 - val_accuracy: 0.9817 - 5s/epoch - 55ms/step\n",
            "Epoch 47/50\n",
            "83/83 - 5s - loss: 0.0078 - accuracy: 1.0000 - val_loss: 0.0471 - val_accuracy: 0.9817 - 5s/epoch - 57ms/step\n",
            "Epoch 48/50\n",
            "83/83 - 5s - loss: 0.0073 - accuracy: 1.0000 - val_loss: 0.0457 - val_accuracy: 0.9840 - 5s/epoch - 56ms/step\n",
            "Epoch 49/50\n",
            "83/83 - 5s - loss: 0.0073 - accuracy: 1.0000 - val_loss: 0.0451 - val_accuracy: 0.9817 - 5s/epoch - 56ms/step\n",
            "Epoch 50/50\n",
            "83/83 - 5s - loss: 0.0080 - accuracy: 1.0000 - val_loss: 0.0467 - val_accuracy: 0.9851 - 5s/epoch - 57ms/step\n",
            "Training time:247.51989364624023\n"
          ]
        }
      ]
    },
    {
      "cell_type": "markdown",
      "source": [
        "Plot training results"
      ],
      "metadata": {
        "id": "KFo2ffmQQemo"
      }
    },
    {
      "cell_type": "code",
      "source": [
        "import matplotlib.pyplot as plt\n",
        "\n",
        "plt.plot(train_results.history['accuracy'])\n",
        "plt.plot(train_results.history['val_accuracy'])\n",
        "plt.title('Training + Validation Accuracy')\n",
        "plt.ylabel('accuracy')\n",
        "plt.xlabel('epoch')\n",
        "plt.legend(['train', 'validation'])\n",
        "plt.show()\n",
        "\n",
        "plt.plot(train_results.history['loss'])\n",
        "plt.plot(train_results.history['val_loss'])\n",
        "plt.title('Training + Validation Loss')\n",
        "plt.ylabel('loss')\n",
        "plt.xlabel('epoch')\n",
        "plt.legend(['train', 'validation'])\n",
        "plt.show()\n"
      ],
      "metadata": {
        "colab": {
          "base_uri": "https://localhost:8080/",
          "height": 927
        },
        "id": "eFsg2x8jNZH4",
        "outputId": "4bd02082-5692-40f9-e1a4-8c2f88553add"
      },
      "execution_count": null,
      "outputs": [
        {
          "output_type": "display_data",
          "data": {
            "text/plain": [
              "<Figure size 640x480 with 1 Axes>"
            ],
            "image/png": "[encoded data removed]"
          },
          "metadata": {}
        },
        {
          "output_type": "display_data",
          "data": {
            "text/plain": [
              "<Figure size 640x480 with 1 Axes>"
            ],
            "image/png": "[encoded data removed]"
          },
          "metadata": {}
        }
      ]
    },
    {
      "cell_type": "markdown",
      "source": [
        "Testing the model"
      ],
      "metadata": {
        "id": "qywpYotWSrL5"
      }
    },
    {
      "cell_type": "code",
      "source": [
        "test_results = gesture_model.evaluate(x=validate_data, y=validate_labels)\n",
        "print(f'testing loss, testing accuracy:{test_results}')"
      ],
      "metadata": {
        "id": "8f49zWvBStTU",
        "colab": {
          "base_uri": "https://localhost:8080/"
        },
        "outputId": "1a805a01-87a4-4e0b-9e41-e98461082d3f"
      },
      "execution_count": null,
      "outputs": [
        {
          "output_type": "stream",
          "name": "stdout",
          "text": [
            "28/28 [==============================] - 1s 45ms/step - loss: 0.0467 - accuracy: 0.9851\n",
            "testing loss, testing accuracy:[0.04671677574515343, 0.9851428866386414]\n"
          ]
        }
      ]
    },
    {
      "cell_type": "markdown",
      "source": [
        "Introduce new images to predict with the trained model"
      ],
      "metadata": {
        "id": "VECR02MBUZwA"
      }
    },
    {
      "cell_type": "code",
      "source": [
        "from IPython.display import display, Javascript\n",
        "from google.colab.output import eval_js\n",
        "from base64 import b64decode\n",
        "import io\n",
        "import PIL\n",
        "from keras.applications.mobilenet_v2 import preprocess_input\n",
        "\n",
        "\n",
        "def take_photo(filename='photo.jpg', quality=0.8):\n",
        "  js = Javascript('''\n",
        "    async function takePhoto(quality) {\n",
        "      const div = document.createElement('div');\n",
        "      const capture = document.createElement('button');\n",
        "      capture.textContent = 'Capture';\n",
        "      div.appendChild(capture);\n",
        "\n",
        "      const video = document.createElement('video');\n",
        "      video.style.display = 'block';\n",
        "      video.width = 224; // Set the width of the video element to 224 pixels\n",
        "      video.height = 224; // Set the height of the video element to 224 pixels\n",
        "      const stream = await navigator.mediaDevices.getUserMedia({video: true});\n",
        "\n",
        "      document.body.appendChild(div);\n",
        "      div.appendChild(video);\n",
        "      video.srcObject = stream;\n",
        "      await video.play();\n",
        "\n",
        "      // Resize the output to fit the video element.\n",
        "      google.colab.output.setIframeHeight(document.documentElement.scrollHeight, true);\n",
        "\n",
        "      // Wait for Capture to be clicked.\n",
        "      await new Promise((resolve) => capture.onclick = resolve);\n",
        "\n",
        "      const canvas = document.createElement('canvas');\n",
        "      canvas.width = 224; // Set the width to 224\n",
        "      canvas.height = 224; // Set the height to 224\n",
        "      canvas.getContext('2d').drawImage(video, 0, 0, 224, 224); // Resize the image to 224x224\n",
        "\n",
        "      stream.getVideoTracks()[0].stop();\n",
        "      div.remove();\n",
        "      return canvas.toDataURL('image/jpeg', quality);\n",
        "    }\n",
        "    ''')\n",
        "  display(js)\n",
        "  data = eval_js('takePhoto({})'.format(quality))\n",
        "\n",
        "\n",
        "  binary = b64decode(data.split(',')[1])\n",
        "  with open(filename, 'wb') as f:\n",
        "    f.write(binary)\n",
        "\n",
        "  image = PIL.Image.open(io.BytesIO(binary))\n",
        "  image = image.resize((224,224))\n",
        "  image_array = np.array(image)\n",
        "  image_array = preprocess_input(image_array)\n",
        "\n",
        "  return filename, image_array"
      ],
      "metadata": {
        "id": "apd696Fj-lHO"
      },
      "execution_count": null,
      "outputs": []
    },
    {
      "cell_type": "code",
      "source": [
        "try:\n",
        "  filename, image_array = take_photo()\n",
        "  print('Saved to {}'.format(filename))\n",
        "\n",
        "\n",
        "  # Show the image which was just taken.\n",
        "  # display(Image(filename))\n",
        "except Exception as err:\n",
        "  # Errors will be thrown if the user does not have a webcam or if they do not\n",
        "  # grant the page permission to access it.\n",
        "  print(str(err))"
      ],
      "metadata": {
        "id": "C250_ZgK-lHO",
        "colab": {
          "base_uri": "https://localhost:8080/",
          "height": 34
        },
        "outputId": "7e0330c0-169f-4430-cb5a-61d7f903d051"
      },
      "execution_count": null,
      "outputs": [
        {
          "output_type": "display_data",
          "data": {
            "text/plain": [
              "<IPython.core.display.Javascript object>"
            ],
            "application/javascript": [
              "\n",
              "    async function takePhoto(quality) {\n",
              "      const div = document.createElement('div');\n",
              "      const capture = document.createElement('button');\n",
              "      capture.textContent = 'Capture';\n",
              "      div.appendChild(capture);\n",
              "\n",
              "      const video = document.createElement('video');\n",
              "      video.style.display = 'block';\n",
              "      video.width = 224; // Set the width of the video element to 224 pixels\n",
              "      video.height = 224; // Set the height of the video element to 224 pixels\n",
              "      const stream = await navigator.mediaDevices.getUserMedia({video: true});\n",
              "\n",
              "      document.body.appendChild(div);\n",
              "      div.appendChild(video);\n",
              "      video.srcObject = stream;\n",
              "      await video.play();\n",
              "\n",
              "      // Resize the output to fit the video element.\n",
              "      google.colab.output.setIframeHeight(document.documentElement.scrollHeight, true);\n",
              "\n",
              "      // Wait for Capture to be clicked.\n",
              "      await new Promise((resolve) => capture.onclick = resolve);\n",
              "\n",
              "      const canvas = document.createElement('canvas');\n",
              "      canvas.width = 224; // Set the width to 224\n",
              "      canvas.height = 224; // Set the height to 224\n",
              "      canvas.getContext('2d').drawImage(video, 0, 0, 224, 224); // Resize the image to 224x224\n",
              "      \n",
              "      stream.getVideoTracks()[0].stop();\n",
              "      div.remove();\n",
              "      return canvas.toDataURL('image/jpeg', quality);\n",
              "    }\n",
              "    "
            ]
          },
          "metadata": {}
        },
        {
          "output_type": "stream",
          "name": "stdout",
          "text": [
            "Saved to photo.jpg\n"
          ]
        }
      ]
    },
    {
      "cell_type": "markdown",
      "source": [
        "Using the model to predict on new images"
      ],
      "metadata": {
        "id": "yD9Aum1WVbQS"
      }
    },
    {
      "cell_type": "code",
      "source": [
        "# pred_data = np.empty((10, 224, 224, 3))\n",
        "# for i in range(0, 10):\n",
        "#     im = imread(f'{PRED_IMAGES}/pred_image{i}.png')\n",
        "#     im = preprocess_input(im)\n",
        "#     im = resize(im, output_shape=(224, 224))\n",
        "#     pred_data[i] = im\n",
        "\n",
        "# pred_labels = np.empty(10)\n",
        "# pred_labels[:5] = 1\n",
        "# pred_labels[5:] = 0\n",
        "# pred_labels"
      ],
      "metadata": {
        "id": "1DAbFjI7UY2R"
      },
      "execution_count": null,
      "outputs": []
    },
    {
      "cell_type": "code",
      "source": [
        "import os\n",
        "from keras.models import load_model\n",
        "\n",
        "# gesture_model.save(os.path.join(MODEL, 'trained_model.keras'))\n",
        "\n",
        "# reconstructed_model = load_model(os.path.join(MODEL, 'trained_model.keras'))\n",
        "\n",
        "image_array = np.expand_dims(image_array, axis = 0)\n",
        "\n",
        "og_prediction = gesture_model.predict(image_array)\n",
        "# reconstructed_prediction = reconstructed_model.predict(image_array)\n",
        "\n",
        "print(f\"OG Prediction:{og_prediction}\")\n",
        "# print(f\"Loaded Model Prediction:{reconstructed_prediction}\")\n",
        "\n",
        "\n",
        "actual_pred = np.argmax(og_prediction, axis=1)\n",
        "\n",
        "if actual_pred == 0:\n",
        "  print(\"Prediction: thumbs down\")\n",
        "elif actual_pred == 1:\n",
        "  print(\"Prediction: thumbs up\")\n",
        "elif actual_pred == 2:\n",
        "  print(\"Prediction: number 1\")\n",
        "elif actual_pred == 3:\n",
        "  print(\"Prediction: number 2\")\n",
        "elif actual_pred == 4:\n",
        "  print(\"Prediction: number 3\")\n",
        "elif actual_pred == 5:\n",
        "  print(\"Prediction: number 4\")\n",
        "elif actual_pred == 6:\n",
        "  print(\"Prediction: number 5\")\n",
        "\n",
        "print(f\"Confidence: {og_prediction[0,actual_pred]}\")\n",
        "\n",
        "# print(f'first five predictions (thumbs up = 1): {np.argmax(predictions[:5], axis=1)}')\n",
        "# print(f'confidence value:                       {np.array(predictions[:5, 1])}')\n",
        "# print(f'actual vals:                            {pred_labels[:5]}')\n",
        "# print(f'last five predictions (thumb down = 0): {np.argmax(predictions[5:], axis=1)}')\n",
        "# print(f'confidence value:                       {np.array(1 - predictions[5:, 1])}')\n",
        "# print(f'actual vals:                            {pred_labels[5:]}')"
      ],
      "metadata": {
        "id": "6gNO4cCvVd6y",
        "colab": {
          "base_uri": "https://localhost:8080/"
        },
        "outputId": "e2fd465e-6387-4781-ecc0-81728fd879ae"
      },
      "execution_count": null,
      "outputs": [
        {
          "output_type": "stream",
          "name": "stdout",
          "text": [
            "1/1 [==============================] - 0s 25ms/step\n",
            "1/1 [==============================] - 1s 773ms/step\n",
            "OG Prediction:[[5.87121690e-07 2.16644015e-02 2.45063711e-06 5.00926690e-04\n",
            "  2.77211890e-03 9.61937547e-01 1.31220585e-02]]\n",
            "Loaded Model Prediction:[[5.87121690e-07 2.16644015e-02 2.45063711e-06 5.00926690e-04\n",
            "  2.77211890e-03 9.61937547e-01 1.31220585e-02]]\n",
            "Prediction: number 4\n",
            "Confidence: [0.96193755]\n"
          ]
        }
      ]
    }
  ]
}