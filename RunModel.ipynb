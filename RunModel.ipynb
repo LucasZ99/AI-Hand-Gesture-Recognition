{
  "nbformat": 4,
  "nbformat_minor": 0,
  "metadata": {
    "colab": {
      "provenance": []
    },
    "kernelspec": {
      "name": "python3",
      "display_name": "Python 3"
    },
    "language_info": {
      "name": "python"
    }
  },
  "cells": [
    {
      "cell_type": "markdown",
      "source": [
        "**Program Instructions:**\n",
        "\n",
        "\n",
        "1.   Mount your drive: open file directory and click the drive icon to mount drive\n",
        "2.   Run [2] and [3] to set up program dependencies\n",
        "3.   Run [4] to load in the model\n",
        "4. Run [5]: Position your hand gesture in the frame. Click Capture. Observe the model's prediction. Repeat as much as you want\n",
        "\n"
      ],
      "metadata": {
        "id": "g6il6DyOMtuE"
      }
    },
    {
      "cell_type": "code",
      "source": [
        "MODEL = '/content/drive/MyDrive/1770FinalProject/model'"
      ],
      "metadata": {
        "id": "khTXoBmQMQHq"
      },
      "execution_count": null,
      "outputs": []
    },
    {
      "cell_type": "markdown",
      "source": [
        "**Config Image Capture**"
      ],
      "metadata": {
        "id": "eH2_Gm0nL31F"
      }
    },
    {
      "cell_type": "code",
      "source": [
        "from IPython.display import display, Javascript\n",
        "from google.colab.output import eval_js\n",
        "from base64 import b64decode\n",
        "import io\n",
        "import PIL\n",
        "from keras.applications.mobilenet_v2 import preprocess_input\n",
        "\n",
        "\n",
        "def take_photo(filename='photo.jpg', quality=0.8):\n",
        "  js = Javascript('''\n",
        "    async function takePhoto(quality) {\n",
        "      const div = document.createElement('div');\n",
        "      const capture = document.createElement('button');\n",
        "      capture.textContent = 'Capture';\n",
        "      div.appendChild(capture);\n",
        "\n",
        "      const video = document.createElement('video');\n",
        "      video.style.display = 'block';\n",
        "      video.width = 224; // Set the width of the video element to 224 pixels\n",
        "      video.height = 224; // Set the height of the video element to 224 pixels\n",
        "      const stream = await navigator.mediaDevices.getUserMedia({video: true});\n",
        "\n",
        "      document.body.appendChild(div);\n",
        "      div.appendChild(video);\n",
        "      video.srcObject = stream;\n",
        "      await video.play();\n",
        "\n",
        "      // Resize the output to fit the video element.\n",
        "      google.colab.output.setIframeHeight(document.documentElement.scrollHeight, true);\n",
        "\n",
        "      // Wait for Capture to be clicked.\n",
        "      await new Promise((resolve) => capture.onclick = resolve);\n",
        "\n",
        "      const canvas = document.createElement('canvas');\n",
        "      canvas.width = 224; // Set the width to 224\n",
        "      canvas.height = 224; // Set the height to 224\n",
        "      canvas.getContext('2d').drawImage(video, 0, 0, 224, 224); // Resize the image to 224x224\n",
        "\n",
        "      stream.getVideoTracks()[0].stop();\n",
        "      div.remove();\n",
        "      return canvas.toDataURL('image/jpeg', quality);\n",
        "    }\n",
        "    ''')\n",
        "  display(js)\n",
        "  data = eval_js('takePhoto({})'.format(quality))\n",
        "\n",
        "\n",
        "  binary = b64decode(data.split(',')[1])\n",
        "  with open(filename, 'wb') as f:\n",
        "    f.write(binary)\n",
        "\n",
        "  image = PIL.Image.open(io.BytesIO(binary))\n",
        "  image = image.resize((224,224))\n",
        "  image_array = np.array(image)\n",
        "  image_array = preprocess_input(image_array)\n",
        "\n",
        "  return filename, image_array"
      ],
      "metadata": {
        "id": "apd696Fj-lHO"
      },
      "execution_count": null,
      "outputs": []
    },
    {
      "cell_type": "markdown",
      "source": [
        "**Load the Model**"
      ],
      "metadata": {
        "id": "lyCX9qnGN_HB"
      }
    },
    {
      "cell_type": "code",
      "source": [
        "from keras.models import load_model\n",
        "import os\n",
        "\n",
        "gesture_model = load_model(os.path.join(MODEL, 'trained_model.keras'))"
      ],
      "metadata": {
        "id": "5cQ22_v1ODc9"
      },
      "execution_count": null,
      "outputs": []
    },
    {
      "cell_type": "markdown",
      "source": [
        "**Run The Model**"
      ],
      "metadata": {
        "id": "s4XsJ1J0LziM"
      }
    },
    {
      "cell_type": "code",
      "source": [
        "import os\n",
        "from keras.models import load_model\n",
        "import numpy as np\n",
        "\n",
        "try:\n",
        "  filename, image_array = take_photo()\n",
        "except Exception as err:\n",
        "  # Errors will be thrown if the user does not have a webcam or if they do not\n",
        "  # grant the page permission to access it.\n",
        "  print(str(err))\n",
        "\n",
        "\n",
        "image_array = np.expand_dims(image_array, axis = 0)\n",
        "\n",
        "prediction = gesture_model.predict(image_array)\n",
        "# reconstructed_prediction = reconstructed_model.predict(image_array)\n",
        "\n",
        "print(f\"Prediction Matrix:{prediction}\")\n",
        "\n",
        "actual_pred = np.argmax(prediction, axis=1)\n",
        "\n",
        "if actual_pred == 0:\n",
        "  print(\"Prediction: thumbs down\")\n",
        "elif actual_pred == 1:\n",
        "  print(\"Prediction: thumbs up\")\n",
        "elif actual_pred == 2:\n",
        "  print(\"Prediction: number 1\")\n",
        "elif actual_pred == 3:\n",
        "  print(\"Prediction: number 2\")\n",
        "elif actual_pred == 4:\n",
        "  print(\"Prediction: number 3\")\n",
        "elif actual_pred == 5:\n",
        "  print(\"Prediction: number 4\")\n",
        "elif actual_pred == 6:\n",
        "  print(\"Prediction: number 5\")\n",
        "\n",
        "print(f\"Confidence: {prediction[0,actual_pred]*100}%\")\n"
      ],
      "metadata": {
        "id": "C250_ZgK-lHO"
      },
      "execution_count": null,
      "outputs": []
    }
  ]
}